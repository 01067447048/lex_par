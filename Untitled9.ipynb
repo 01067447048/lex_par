{
 "nbformat": 4,
 "nbformat_minor": 0,
 "metadata": {
  "colab": {
   "provenance": []
  },
  "kernelspec": {
   "name": "python3",
   "display_name": "Python 3"
  },
  "language_info": {
   "name": "python"
  }
 },
 "cells": [
  {
   "cell_type": "code",
   "source": [
    "!pip install konlpy"
   ],
   "metadata": {
    "colab": {
     "base_uri": "https://localhost:8080/"
    },
    "id": "qROTwBRqZWBK",
    "outputId": "841babdc-76e9-4e51-ce8d-7e3cfc48075d"
   },
   "execution_count": 1,
   "outputs": [
    {
     "name": "stdout",
     "output_type": "stream",
     "text": [
      "Collecting konlpy\r\n",
      "  Using cached konlpy-0.6.0-py2.py3-none-any.whl (19.4 MB)\r\n",
      "Collecting numpy>=1.6\r\n",
      "  Using cached numpy-1.23.5-cp39-cp39-macosx_10_9_x86_64.whl (18.1 MB)\r\n",
      "Collecting JPype1>=0.7.0\r\n",
      "  Downloading JPype1-1.4.1-cp39-cp39-macosx_10_9_x86_64.whl (381 kB)\r\n",
      "\u001B[K     |████████████████████████████████| 381 kB 1.6 MB/s eta 0:00:01\r\n",
      "\u001B[?25hCollecting lxml>=4.1.0\r\n",
      "  Using cached lxml-4.9.1-cp39-cp39-macosx_10_15_x86_64.whl (4.6 MB)\r\n",
      "Requirement already satisfied: packaging in ./venv/lib/python3.9/site-packages (from JPype1>=0.7.0->konlpy) (21.3)\r\n",
      "Requirement already satisfied: pyparsing!=3.0.5,>=2.0.2 in ./venv/lib/python3.9/site-packages (from packaging->JPype1>=0.7.0->konlpy) (3.0.9)\r\n",
      "Installing collected packages: numpy, lxml, JPype1, konlpy\r\n",
      "Successfully installed JPype1-1.4.1 konlpy-0.6.0 lxml-4.9.1 numpy-1.23.5\r\n",
      "\u001B[33mWARNING: You are using pip version 21.1.2; however, version 22.3.1 is available.\r\n",
      "You should consider upgrading via the '/Users/dclab/PycharmProjects/코사인 유사도/venv/bin/python -m pip install --upgrade pip' command.\u001B[0m\r\n"
     ]
    }
   ]
  },
  {
   "cell_type": "code",
   "execution_count": 51,
   "metadata": {
    "colab": {
     "base_uri": "https://localhost:8080/"
    },
    "id": "szG4lIvJZMd-",
    "outputId": "b28bc39c-d8c1-4922-cb19-a7bfa9e4171c"
   },
   "outputs": [
    {
     "name": "stdout",
     "output_type": "stream",
     "text": [
      "['안녕', '나', '애플', '스티브잡스']\n",
      "['안녕', '나', '페이스북', '주커버그']\n",
      "['나', '애플', '스티브잡스', '주커버그', '별로']\n"
     ]
    }
   ],
   "source": [
    "\n",
    "from konlpy.tag import Okt\n",
    "from numpy import dot\n",
    "from numpy.linalg import norm\n",
    "import numpy as np\n",
    "import glob\n",
    "import os  # 디렉토리를 바꿔야 할 경우에만 쓰세요\n",
    "\n",
    "os.chdir(\"/Users/dclab/PycharmProjects/코사인 유사도/embedding\")  # 디렉토리를 바꿔야 할 경우에만 쓰세요\n",
    "file_name = []\n",
    "file_embedding = []\n",
    "\n",
    "# 코사인 유사도를 구하는 함수\n",
    "def cos_sim(a, b):\n",
    "    return dot(a, b ) /(norm(a ) *norm(b))\n",
    "\n",
    "# 기준이 되는 키워드와 벡터 키워드 리스트를 받아서 키워드별 빈도를 구하는 함수\n",
    "def make_matrix(feats, list_data):\n",
    "    freq_list = []\n",
    "    for feat in feats:\n",
    "        freq = 0\n",
    "        for word in list_data:\n",
    "            if feat == word:\n",
    "                freq += 1\n",
    "        freq_list.append(freq)\n",
    "    return freq_list\n",
    "\n",
    "############################################\n",
    "\n",
    "okt = Okt()\n",
    "\n",
    "for file in glob.glob(\"*.txt\"):  # '*'은 모든 값을 의미\n",
    "    f = open(file)\n",
    "    data = f.read()\n",
    "\n",
    "    # Embed a list of sentences\n",
    "    sentences = []\n",
    "    sentences.append(data)\n",
    "\n",
    "\n",
    "    sentences_list = []\n",
    "    sentence = ''\n",
    "    for i in sentences:\n",
    "        sentence = sentence + str(i)\n",
    "        sentences_list.append(sentence)\n",
    "    #     ['list_{}'.format(file)].append(sentence)\n",
    "    # ['list_{}'.format(file)].append(sentences_list)\n",
    "    # print(file)\n",
    "\n",
    "    globals()['list_{}'.format(file)] = sentences_list\n",
    "\n",
    "    globals()['list_token{}'.format(file)] = okt.nouns('list_{}'.format(file))\n",
    "\n",
    "text1 = '안녕 나는 애플을 만든 스티브잡스야'\n",
    "text2 = '안녕 나는 페이스북을 만든 주커버그야'\n",
    "text3 = '나는 애플과 스티브잡스를 좋아해. 주커버그는 별로야'\n",
    "\n",
    "# v1 = okt.nouns(text1)\n",
    "# print(v1)\n",
    "# v2 = okt.nouns(text2)\n",
    "# print(v2)\n",
    "# v3 = okt.nouns(text3)\n",
    "# print(v3)"
   ]
  },
  {
   "cell_type": "code",
   "source": [
    "\n",
    "# 단어들을 중복제거를 위해, set에 데이터를 쌓는다\n",
    "v4 = v1 + v2 + v3\n",
    "feats = set(v4)\n",
    "\n",
    "print(\"---------\",feats)\n",
    "\n",
    "v1_arr = np.array(make_matrix(feats, v1))\n",
    "print(\"111111   \",v1_arr)\n",
    "v2_arr = np.array(make_matrix(feats, v2))\n",
    "print(\"222222   \",v1_arr)\n",
    "v3_arr = np.array(make_matrix(feats, v3))"
   ],
   "metadata": {
    "colab": {
     "base_uri": "https://localhost:8080/"
    },
    "id": "AGdLfgRuZP46",
    "outputId": "66ed6321-b3c2-41f8-d5b8-8bc4623f1100"
   },
   "execution_count": 3,
   "outputs": [
    {
     "name": "stdout",
     "output_type": "stream",
     "text": [
      "--------- {'별로', '페이스북', '애플', '주커버그', '안녕', '스티브잡스', '나'}\n",
      "111111    [0 0 1 0 1 1 1]\n",
      "222222    [0 0 1 0 1 1 1]\n"
     ]
    }
   ]
  },
  {
   "cell_type": "code",
   "source": [
    "cs1 = cos_sim(v1_arr, v2_arr)\n",
    "cs2 = cos_sim(v1_arr, v3_arr)\n",
    "cs3 = cos_sim(v2_arr, v3_arr)\n",
    "\n",
    "print('v1 <-> v2 = ', cs1)\n",
    "print('v1 <-> v3 = ', cs2)\n",
    "print('v2 <-> v3 = ', cs3)"
   ],
   "metadata": {
    "colab": {
     "base_uri": "https://localhost:8080/"
    },
    "id": "L5UpHEWDZP23",
    "outputId": "c2eeac45-5ab6-41f4-fb2f-efc44cfe9572"
   },
   "execution_count": 5,
   "outputs": [
    {
     "output_type": "stream",
     "name": "stdout",
     "text": [
      "v1 <-> v2 =  0.5\n",
      "v1 <-> v3 =  0.6708203932499369\n",
      "v2 <-> v3 =  0.4472135954999579\n"
     ]
    }
   ]
  },
  {
   "cell_type": "code",
   "source": [],
   "metadata": {
    "id": "W50gZzTbZP0g"
   },
   "execution_count": null,
   "outputs": []
  },
  {
   "cell_type": "code",
   "source": [],
   "metadata": {
    "id": "iDdfjjS3ZPyK"
   },
   "execution_count": null,
   "outputs": []
  },
  {
   "cell_type": "code",
   "source": [],
   "metadata": {
    "id": "JFjuNajFZPvz"
   },
   "execution_count": null,
   "outputs": []
  },
  {
   "cell_type": "code",
   "source": [],
   "metadata": {
    "id": "UtDovEzaZPtg"
   },
   "execution_count": null,
   "outputs": []
  }
 ]
}